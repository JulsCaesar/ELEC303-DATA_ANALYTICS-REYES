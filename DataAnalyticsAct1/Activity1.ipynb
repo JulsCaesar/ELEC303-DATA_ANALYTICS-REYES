{
 "cells": [
  {
   "cell_type": "markdown",
   "id": "92fa54b6-45b1-48bd-bce2-1d69d0b45c38",
   "metadata": {},
   "source": [
    "<h1>Activity 1</h1>"
   ]
  },
  {
   "cell_type": "code",
   "execution_count": 1,
   "id": "e295679f-a869-490b-87a0-8ea58ad84b28",
   "metadata": {},
   "outputs": [
    {
     "data": {
      "text/html": [
       "<div>\n",
       "<style scoped>\n",
       "    .dataframe tbody tr th:only-of-type {\n",
       "        vertical-align: middle;\n",
       "    }\n",
       "\n",
       "    .dataframe tbody tr th {\n",
       "        vertical-align: top;\n",
       "    }\n",
       "\n",
       "    .dataframe thead th {\n",
       "        text-align: right;\n",
       "    }\n",
       "</style>\n",
       "<table border=\"1\" class=\"dataframe\">\n",
       "  <thead>\n",
       "    <tr style=\"text-align: right;\">\n",
       "      <th></th>\n",
       "      <th>species</th>\n",
       "      <th>island</th>\n",
       "      <th>bill_length_mm</th>\n",
       "      <th>bill_depth_mm</th>\n",
       "      <th>flipper_length_mm</th>\n",
       "      <th>body_mass_g</th>\n",
       "      <th>sex</th>\n",
       "      <th>year</th>\n",
       "    </tr>\n",
       "  </thead>\n",
       "  <tbody>\n",
       "    <tr>\n",
       "      <th>0</th>\n",
       "      <td>Adelie</td>\n",
       "      <td>Torgersen</td>\n",
       "      <td>39.1</td>\n",
       "      <td>18.7</td>\n",
       "      <td>181.0</td>\n",
       "      <td>3750.0</td>\n",
       "      <td>male</td>\n",
       "      <td>2007</td>\n",
       "    </tr>\n",
       "    <tr>\n",
       "      <th>1</th>\n",
       "      <td>Adelie</td>\n",
       "      <td>Torgersen</td>\n",
       "      <td>39.5</td>\n",
       "      <td>17.4</td>\n",
       "      <td>186.0</td>\n",
       "      <td>3800.0</td>\n",
       "      <td>female</td>\n",
       "      <td>2007</td>\n",
       "    </tr>\n",
       "    <tr>\n",
       "      <th>2</th>\n",
       "      <td>Adelie</td>\n",
       "      <td>Torgersen</td>\n",
       "      <td>40.3</td>\n",
       "      <td>18.0</td>\n",
       "      <td>195.0</td>\n",
       "      <td>3250.0</td>\n",
       "      <td>female</td>\n",
       "      <td>2007</td>\n",
       "    </tr>\n",
       "    <tr>\n",
       "      <th>3</th>\n",
       "      <td>Adelie</td>\n",
       "      <td>Torgersen</td>\n",
       "      <td>NaN</td>\n",
       "      <td>NaN</td>\n",
       "      <td>NaN</td>\n",
       "      <td>NaN</td>\n",
       "      <td>NaN</td>\n",
       "      <td>2007</td>\n",
       "    </tr>\n",
       "    <tr>\n",
       "      <th>4</th>\n",
       "      <td>Adelie</td>\n",
       "      <td>Torgersen</td>\n",
       "      <td>36.7</td>\n",
       "      <td>19.3</td>\n",
       "      <td>193.0</td>\n",
       "      <td>3450.0</td>\n",
       "      <td>female</td>\n",
       "      <td>2007</td>\n",
       "    </tr>\n",
       "    <tr>\n",
       "      <th>...</th>\n",
       "      <td>...</td>\n",
       "      <td>...</td>\n",
       "      <td>...</td>\n",
       "      <td>...</td>\n",
       "      <td>...</td>\n",
       "      <td>...</td>\n",
       "      <td>...</td>\n",
       "      <td>...</td>\n",
       "    </tr>\n",
       "    <tr>\n",
       "      <th>339</th>\n",
       "      <td>Chinstrap</td>\n",
       "      <td>Dream</td>\n",
       "      <td>55.8</td>\n",
       "      <td>19.8</td>\n",
       "      <td>207.0</td>\n",
       "      <td>4000.0</td>\n",
       "      <td>male</td>\n",
       "      <td>2009</td>\n",
       "    </tr>\n",
       "    <tr>\n",
       "      <th>340</th>\n",
       "      <td>Chinstrap</td>\n",
       "      <td>Dream</td>\n",
       "      <td>43.5</td>\n",
       "      <td>18.1</td>\n",
       "      <td>202.0</td>\n",
       "      <td>3400.0</td>\n",
       "      <td>female</td>\n",
       "      <td>2009</td>\n",
       "    </tr>\n",
       "    <tr>\n",
       "      <th>341</th>\n",
       "      <td>Chinstrap</td>\n",
       "      <td>Dream</td>\n",
       "      <td>49.6</td>\n",
       "      <td>18.2</td>\n",
       "      <td>193.0</td>\n",
       "      <td>3775.0</td>\n",
       "      <td>male</td>\n",
       "      <td>2009</td>\n",
       "    </tr>\n",
       "    <tr>\n",
       "      <th>342</th>\n",
       "      <td>Chinstrap</td>\n",
       "      <td>Dream</td>\n",
       "      <td>50.8</td>\n",
       "      <td>19.0</td>\n",
       "      <td>210.0</td>\n",
       "      <td>4100.0</td>\n",
       "      <td>male</td>\n",
       "      <td>2009</td>\n",
       "    </tr>\n",
       "    <tr>\n",
       "      <th>343</th>\n",
       "      <td>Chinstrap</td>\n",
       "      <td>Dream</td>\n",
       "      <td>50.2</td>\n",
       "      <td>18.7</td>\n",
       "      <td>198.0</td>\n",
       "      <td>3775.0</td>\n",
       "      <td>female</td>\n",
       "      <td>2009</td>\n",
       "    </tr>\n",
       "  </tbody>\n",
       "</table>\n",
       "<p>344 rows × 8 columns</p>\n",
       "</div>"
      ],
      "text/plain": [
       "       species     island  bill_length_mm  bill_depth_mm  flipper_length_mm  \\\n",
       "0       Adelie  Torgersen            39.1           18.7              181.0   \n",
       "1       Adelie  Torgersen            39.5           17.4              186.0   \n",
       "2       Adelie  Torgersen            40.3           18.0              195.0   \n",
       "3       Adelie  Torgersen             NaN            NaN                NaN   \n",
       "4       Adelie  Torgersen            36.7           19.3              193.0   \n",
       "..         ...        ...             ...            ...                ...   \n",
       "339  Chinstrap      Dream            55.8           19.8              207.0   \n",
       "340  Chinstrap      Dream            43.5           18.1              202.0   \n",
       "341  Chinstrap      Dream            49.6           18.2              193.0   \n",
       "342  Chinstrap      Dream            50.8           19.0              210.0   \n",
       "343  Chinstrap      Dream            50.2           18.7              198.0   \n",
       "\n",
       "     body_mass_g     sex  year  \n",
       "0         3750.0    male  2007  \n",
       "1         3800.0  female  2007  \n",
       "2         3250.0  female  2007  \n",
       "3            NaN     NaN  2007  \n",
       "4         3450.0  female  2007  \n",
       "..           ...     ...   ...  \n",
       "339       4000.0    male  2009  \n",
       "340       3400.0  female  2009  \n",
       "341       3775.0    male  2009  \n",
       "342       4100.0    male  2009  \n",
       "343       3775.0  female  2009  \n",
       "\n",
       "[344 rows x 8 columns]"
      ]
     },
     "execution_count": 1,
     "metadata": {},
     "output_type": "execute_result"
    }
   ],
   "source": [
    "import numpy as np\n",
    "import pandas as pd\n",
    "import warnings\n",
    "warnings.filterwarnings('ignore')\n",
    "from scipy import stats\n",
    "penguins = pd.read_csv('penguins.csv')\n",
    "penguins"
   ]
  },
  {
   "cell_type": "code",
   "execution_count": 2,
   "id": "a3097a49-4e84-4441-9245-75a3920a9d67",
   "metadata": {},
   "outputs": [
    {
     "data": {
      "text/html": [
       "<div>\n",
       "<style scoped>\n",
       "    .dataframe tbody tr th:only-of-type {\n",
       "        vertical-align: middle;\n",
       "    }\n",
       "\n",
       "    .dataframe tbody tr th {\n",
       "        vertical-align: top;\n",
       "    }\n",
       "\n",
       "    .dataframe thead th {\n",
       "        text-align: right;\n",
       "    }\n",
       "</style>\n",
       "<table border=\"1\" class=\"dataframe\">\n",
       "  <thead>\n",
       "    <tr style=\"text-align: right;\">\n",
       "      <th></th>\n",
       "      <th>bill_length_mm</th>\n",
       "      <th>bill_depth_mm</th>\n",
       "      <th>flipper_length_mm</th>\n",
       "      <th>body_mass_g</th>\n",
       "      <th>year</th>\n",
       "    </tr>\n",
       "  </thead>\n",
       "  <tbody>\n",
       "    <tr>\n",
       "      <th>count</th>\n",
       "      <td>342.000000</td>\n",
       "      <td>342.000000</td>\n",
       "      <td>342.000000</td>\n",
       "      <td>342.000000</td>\n",
       "      <td>344.000000</td>\n",
       "    </tr>\n",
       "    <tr>\n",
       "      <th>mean</th>\n",
       "      <td>43.921930</td>\n",
       "      <td>17.151170</td>\n",
       "      <td>200.915205</td>\n",
       "      <td>4201.754386</td>\n",
       "      <td>2008.029070</td>\n",
       "    </tr>\n",
       "    <tr>\n",
       "      <th>std</th>\n",
       "      <td>5.459584</td>\n",
       "      <td>1.974793</td>\n",
       "      <td>14.061714</td>\n",
       "      <td>801.954536</td>\n",
       "      <td>0.818356</td>\n",
       "    </tr>\n",
       "    <tr>\n",
       "      <th>min</th>\n",
       "      <td>32.100000</td>\n",
       "      <td>13.100000</td>\n",
       "      <td>172.000000</td>\n",
       "      <td>2700.000000</td>\n",
       "      <td>2007.000000</td>\n",
       "    </tr>\n",
       "    <tr>\n",
       "      <th>25%</th>\n",
       "      <td>39.225000</td>\n",
       "      <td>15.600000</td>\n",
       "      <td>190.000000</td>\n",
       "      <td>3550.000000</td>\n",
       "      <td>2007.000000</td>\n",
       "    </tr>\n",
       "    <tr>\n",
       "      <th>50%</th>\n",
       "      <td>44.450000</td>\n",
       "      <td>17.300000</td>\n",
       "      <td>197.000000</td>\n",
       "      <td>4050.000000</td>\n",
       "      <td>2008.000000</td>\n",
       "    </tr>\n",
       "    <tr>\n",
       "      <th>75%</th>\n",
       "      <td>48.500000</td>\n",
       "      <td>18.700000</td>\n",
       "      <td>213.000000</td>\n",
       "      <td>4750.000000</td>\n",
       "      <td>2009.000000</td>\n",
       "    </tr>\n",
       "    <tr>\n",
       "      <th>max</th>\n",
       "      <td>59.600000</td>\n",
       "      <td>21.500000</td>\n",
       "      <td>231.000000</td>\n",
       "      <td>6300.000000</td>\n",
       "      <td>2009.000000</td>\n",
       "    </tr>\n",
       "  </tbody>\n",
       "</table>\n",
       "</div>"
      ],
      "text/plain": [
       "       bill_length_mm  bill_depth_mm  flipper_length_mm  body_mass_g  \\\n",
       "count      342.000000     342.000000         342.000000   342.000000   \n",
       "mean        43.921930      17.151170         200.915205  4201.754386   \n",
       "std          5.459584       1.974793          14.061714   801.954536   \n",
       "min         32.100000      13.100000         172.000000  2700.000000   \n",
       "25%         39.225000      15.600000         190.000000  3550.000000   \n",
       "50%         44.450000      17.300000         197.000000  4050.000000   \n",
       "75%         48.500000      18.700000         213.000000  4750.000000   \n",
       "max         59.600000      21.500000         231.000000  6300.000000   \n",
       "\n",
       "              year  \n",
       "count   344.000000  \n",
       "mean   2008.029070  \n",
       "std       0.818356  \n",
       "min    2007.000000  \n",
       "25%    2007.000000  \n",
       "50%    2008.000000  \n",
       "75%    2009.000000  \n",
       "max    2009.000000  "
      ]
     },
     "execution_count": 2,
     "metadata": {},
     "output_type": "execute_result"
    }
   ],
   "source": [
    "penguins.describe()"
   ]
  },
  {
   "cell_type": "code",
   "execution_count": 3,
   "id": "02b6bcb3-0aba-4d72-94f3-7e90f0ea204e",
   "metadata": {},
   "outputs": [
    {
     "name": "stdout",
     "output_type": "stream",
     "text": [
      "<class 'pandas.core.frame.DataFrame'>\n",
      "RangeIndex: 344 entries, 0 to 343\n",
      "Data columns (total 8 columns):\n",
      " #   Column             Non-Null Count  Dtype  \n",
      "---  ------             --------------  -----  \n",
      " 0   species            344 non-null    object \n",
      " 1   island             344 non-null    object \n",
      " 2   bill_length_mm     342 non-null    float64\n",
      " 3   bill_depth_mm      342 non-null    float64\n",
      " 4   flipper_length_mm  342 non-null    float64\n",
      " 5   body_mass_g        342 non-null    float64\n",
      " 6   sex                333 non-null    object \n",
      " 7   year               344 non-null    int64  \n",
      "dtypes: float64(4), int64(1), object(3)\n",
      "memory usage: 21.6+ KB\n"
     ]
    }
   ],
   "source": [
    "penguins.info()"
   ]
  },
  {
   "cell_type": "code",
   "execution_count": 4,
   "id": "bf53436d-0692-4605-9088-3c94c36116a6",
   "metadata": {},
   "outputs": [
    {
     "data": {
      "text/plain": [
       "species               0\n",
       "island                0\n",
       "bill_length_mm        2\n",
       "bill_depth_mm         2\n",
       "flipper_length_mm     2\n",
       "body_mass_g           2\n",
       "sex                  11\n",
       "year                  0\n",
       "dtype: int64"
      ]
     },
     "execution_count": 4,
     "metadata": {},
     "output_type": "execute_result"
    }
   ],
   "source": [
    "penguins.isnull().sum()"
   ]
  },
  {
   "cell_type": "code",
   "execution_count": 5,
   "id": "6765538c-9ed1-44ed-b3f4-cd990bcfb837",
   "metadata": {},
   "outputs": [
    {
     "data": {
      "text/html": [
       "<div>\n",
       "<style scoped>\n",
       "    .dataframe tbody tr th:only-of-type {\n",
       "        vertical-align: middle;\n",
       "    }\n",
       "\n",
       "    .dataframe tbody tr th {\n",
       "        vertical-align: top;\n",
       "    }\n",
       "\n",
       "    .dataframe thead th {\n",
       "        text-align: right;\n",
       "    }\n",
       "</style>\n",
       "<table border=\"1\" class=\"dataframe\">\n",
       "  <thead>\n",
       "    <tr style=\"text-align: right;\">\n",
       "      <th></th>\n",
       "      <th>species</th>\n",
       "      <th>island</th>\n",
       "      <th>bill_length_mm</th>\n",
       "      <th>bill_depth_mm</th>\n",
       "      <th>flipper_length_mm</th>\n",
       "      <th>body_mass_g</th>\n",
       "      <th>sex</th>\n",
       "      <th>year</th>\n",
       "    </tr>\n",
       "  </thead>\n",
       "  <tbody>\n",
       "    <tr>\n",
       "      <th>30</th>\n",
       "      <td>Adelie</td>\n",
       "      <td>Dream</td>\n",
       "      <td>39.5</td>\n",
       "      <td>16.7</td>\n",
       "      <td>178.0</td>\n",
       "      <td>3250.0</td>\n",
       "      <td>female</td>\n",
       "      <td>2007</td>\n",
       "    </tr>\n",
       "    <tr>\n",
       "      <th>31</th>\n",
       "      <td>Adelie</td>\n",
       "      <td>Dream</td>\n",
       "      <td>37.2</td>\n",
       "      <td>18.1</td>\n",
       "      <td>178.0</td>\n",
       "      <td>3900.0</td>\n",
       "      <td>male</td>\n",
       "      <td>2007</td>\n",
       "    </tr>\n",
       "    <tr>\n",
       "      <th>32</th>\n",
       "      <td>Adelie</td>\n",
       "      <td>Dream</td>\n",
       "      <td>39.5</td>\n",
       "      <td>17.8</td>\n",
       "      <td>188.0</td>\n",
       "      <td>3300.0</td>\n",
       "      <td>female</td>\n",
       "      <td>2007</td>\n",
       "    </tr>\n",
       "    <tr>\n",
       "      <th>33</th>\n",
       "      <td>Adelie</td>\n",
       "      <td>Dream</td>\n",
       "      <td>40.9</td>\n",
       "      <td>18.9</td>\n",
       "      <td>184.0</td>\n",
       "      <td>3900.0</td>\n",
       "      <td>male</td>\n",
       "      <td>2007</td>\n",
       "    </tr>\n",
       "    <tr>\n",
       "      <th>34</th>\n",
       "      <td>Adelie</td>\n",
       "      <td>Dream</td>\n",
       "      <td>36.4</td>\n",
       "      <td>17.0</td>\n",
       "      <td>195.0</td>\n",
       "      <td>3325.0</td>\n",
       "      <td>female</td>\n",
       "      <td>2007</td>\n",
       "    </tr>\n",
       "    <tr>\n",
       "      <th>...</th>\n",
       "      <td>...</td>\n",
       "      <td>...</td>\n",
       "      <td>...</td>\n",
       "      <td>...</td>\n",
       "      <td>...</td>\n",
       "      <td>...</td>\n",
       "      <td>...</td>\n",
       "      <td>...</td>\n",
       "    </tr>\n",
       "    <tr>\n",
       "      <th>339</th>\n",
       "      <td>Chinstrap</td>\n",
       "      <td>Dream</td>\n",
       "      <td>55.8</td>\n",
       "      <td>19.8</td>\n",
       "      <td>207.0</td>\n",
       "      <td>4000.0</td>\n",
       "      <td>male</td>\n",
       "      <td>2009</td>\n",
       "    </tr>\n",
       "    <tr>\n",
       "      <th>340</th>\n",
       "      <td>Chinstrap</td>\n",
       "      <td>Dream</td>\n",
       "      <td>43.5</td>\n",
       "      <td>18.1</td>\n",
       "      <td>202.0</td>\n",
       "      <td>3400.0</td>\n",
       "      <td>female</td>\n",
       "      <td>2009</td>\n",
       "    </tr>\n",
       "    <tr>\n",
       "      <th>341</th>\n",
       "      <td>Chinstrap</td>\n",
       "      <td>Dream</td>\n",
       "      <td>49.6</td>\n",
       "      <td>18.2</td>\n",
       "      <td>193.0</td>\n",
       "      <td>3775.0</td>\n",
       "      <td>male</td>\n",
       "      <td>2009</td>\n",
       "    </tr>\n",
       "    <tr>\n",
       "      <th>342</th>\n",
       "      <td>Chinstrap</td>\n",
       "      <td>Dream</td>\n",
       "      <td>50.8</td>\n",
       "      <td>19.0</td>\n",
       "      <td>210.0</td>\n",
       "      <td>4100.0</td>\n",
       "      <td>male</td>\n",
       "      <td>2009</td>\n",
       "    </tr>\n",
       "    <tr>\n",
       "      <th>343</th>\n",
       "      <td>Chinstrap</td>\n",
       "      <td>Dream</td>\n",
       "      <td>50.2</td>\n",
       "      <td>18.7</td>\n",
       "      <td>198.0</td>\n",
       "      <td>3775.0</td>\n",
       "      <td>female</td>\n",
       "      <td>2009</td>\n",
       "    </tr>\n",
       "  </tbody>\n",
       "</table>\n",
       "<p>124 rows × 8 columns</p>\n",
       "</div>"
      ],
      "text/plain": [
       "       species island  bill_length_mm  bill_depth_mm  flipper_length_mm  \\\n",
       "30      Adelie  Dream            39.5           16.7              178.0   \n",
       "31      Adelie  Dream            37.2           18.1              178.0   \n",
       "32      Adelie  Dream            39.5           17.8              188.0   \n",
       "33      Adelie  Dream            40.9           18.9              184.0   \n",
       "34      Adelie  Dream            36.4           17.0              195.0   \n",
       "..         ...    ...             ...            ...                ...   \n",
       "339  Chinstrap  Dream            55.8           19.8              207.0   \n",
       "340  Chinstrap  Dream            43.5           18.1              202.0   \n",
       "341  Chinstrap  Dream            49.6           18.2              193.0   \n",
       "342  Chinstrap  Dream            50.8           19.0              210.0   \n",
       "343  Chinstrap  Dream            50.2           18.7              198.0   \n",
       "\n",
       "     body_mass_g     sex  year  \n",
       "30        3250.0  female  2007  \n",
       "31        3900.0    male  2007  \n",
       "32        3300.0  female  2007  \n",
       "33        3900.0    male  2007  \n",
       "34        3325.0  female  2007  \n",
       "..           ...     ...   ...  \n",
       "339       4000.0    male  2009  \n",
       "340       3400.0  female  2009  \n",
       "341       3775.0    male  2009  \n",
       "342       4100.0    male  2009  \n",
       "343       3775.0  female  2009  \n",
       "\n",
       "[124 rows x 8 columns]"
      ]
     },
     "execution_count": 5,
     "metadata": {},
     "output_type": "execute_result"
    }
   ],
   "source": [
    "penguins[penguins['island'] == 'Dream']"
   ]
  },
  {
   "cell_type": "code",
   "execution_count": 6,
   "id": "1f3d8f6e-8160-4281-986c-78f77990ec1d",
   "metadata": {},
   "outputs": [
    {
     "data": {
      "text/plain": [
       "species\n",
       "Adelie       152\n",
       "Gentoo       124\n",
       "Chinstrap     68\n",
       "Name: count, dtype: int64"
      ]
     },
     "execution_count": 6,
     "metadata": {},
     "output_type": "execute_result"
    }
   ],
   "source": [
    "penguspecies = penguins['species'].value_counts()\n",
    "penguspecies"
   ]
  },
  {
   "cell_type": "code",
   "execution_count": 7,
   "id": "9fda11e3-d6e7-4329-b170-671df81cae5a",
   "metadata": {},
   "outputs": [],
   "source": [
    "Adelie_Pengu = penguins[penguins['species'] == 'Adelie']\n",
    "Gentoo_Pengu = penguins[penguins['species'] == 'Gentoo']\n",
    "Chinstrap_Pengu = penguins[penguins['species'] == 'Chinstrap']"
   ]
  },
  {
   "cell_type": "code",
   "execution_count": 8,
   "id": "17765a1c-51cd-4c61-91dd-f44e47872f5a",
   "metadata": {},
   "outputs": [
    {
     "data": {
      "text/html": [
       "<div>\n",
       "<style scoped>\n",
       "    .dataframe tbody tr th:only-of-type {\n",
       "        vertical-align: middle;\n",
       "    }\n",
       "\n",
       "    .dataframe tbody tr th {\n",
       "        vertical-align: top;\n",
       "    }\n",
       "\n",
       "    .dataframe thead th {\n",
       "        text-align: right;\n",
       "    }\n",
       "</style>\n",
       "<table border=\"1\" class=\"dataframe\">\n",
       "  <thead>\n",
       "    <tr style=\"text-align: right;\">\n",
       "      <th></th>\n",
       "      <th>species</th>\n",
       "      <th>island</th>\n",
       "      <th>bill_length_mm</th>\n",
       "      <th>bill_depth_mm</th>\n",
       "      <th>flipper_length_mm</th>\n",
       "      <th>body_mass_g</th>\n",
       "      <th>sex</th>\n",
       "      <th>year</th>\n",
       "    </tr>\n",
       "  </thead>\n",
       "  <tbody>\n",
       "    <tr>\n",
       "      <th>276</th>\n",
       "      <td>Chinstrap</td>\n",
       "      <td>Dream</td>\n",
       "      <td>46.5</td>\n",
       "      <td>17.9</td>\n",
       "      <td>192.0</td>\n",
       "      <td>3500.0</td>\n",
       "      <td>female</td>\n",
       "      <td>2007</td>\n",
       "    </tr>\n",
       "    <tr>\n",
       "      <th>277</th>\n",
       "      <td>Chinstrap</td>\n",
       "      <td>Dream</td>\n",
       "      <td>50.0</td>\n",
       "      <td>19.5</td>\n",
       "      <td>196.0</td>\n",
       "      <td>3900.0</td>\n",
       "      <td>male</td>\n",
       "      <td>2007</td>\n",
       "    </tr>\n",
       "    <tr>\n",
       "      <th>278</th>\n",
       "      <td>Chinstrap</td>\n",
       "      <td>Dream</td>\n",
       "      <td>51.3</td>\n",
       "      <td>19.2</td>\n",
       "      <td>193.0</td>\n",
       "      <td>3650.0</td>\n",
       "      <td>male</td>\n",
       "      <td>2007</td>\n",
       "    </tr>\n",
       "    <tr>\n",
       "      <th>279</th>\n",
       "      <td>Chinstrap</td>\n",
       "      <td>Dream</td>\n",
       "      <td>45.4</td>\n",
       "      <td>18.7</td>\n",
       "      <td>188.0</td>\n",
       "      <td>3525.0</td>\n",
       "      <td>female</td>\n",
       "      <td>2007</td>\n",
       "    </tr>\n",
       "    <tr>\n",
       "      <th>280</th>\n",
       "      <td>Chinstrap</td>\n",
       "      <td>Dream</td>\n",
       "      <td>52.7</td>\n",
       "      <td>19.8</td>\n",
       "      <td>197.0</td>\n",
       "      <td>3725.0</td>\n",
       "      <td>male</td>\n",
       "      <td>2007</td>\n",
       "    </tr>\n",
       "    <tr>\n",
       "      <th>...</th>\n",
       "      <td>...</td>\n",
       "      <td>...</td>\n",
       "      <td>...</td>\n",
       "      <td>...</td>\n",
       "      <td>...</td>\n",
       "      <td>...</td>\n",
       "      <td>...</td>\n",
       "      <td>...</td>\n",
       "    </tr>\n",
       "    <tr>\n",
       "      <th>339</th>\n",
       "      <td>Chinstrap</td>\n",
       "      <td>Dream</td>\n",
       "      <td>55.8</td>\n",
       "      <td>19.8</td>\n",
       "      <td>207.0</td>\n",
       "      <td>4000.0</td>\n",
       "      <td>male</td>\n",
       "      <td>2009</td>\n",
       "    </tr>\n",
       "    <tr>\n",
       "      <th>340</th>\n",
       "      <td>Chinstrap</td>\n",
       "      <td>Dream</td>\n",
       "      <td>43.5</td>\n",
       "      <td>18.1</td>\n",
       "      <td>202.0</td>\n",
       "      <td>3400.0</td>\n",
       "      <td>female</td>\n",
       "      <td>2009</td>\n",
       "    </tr>\n",
       "    <tr>\n",
       "      <th>341</th>\n",
       "      <td>Chinstrap</td>\n",
       "      <td>Dream</td>\n",
       "      <td>49.6</td>\n",
       "      <td>18.2</td>\n",
       "      <td>193.0</td>\n",
       "      <td>3775.0</td>\n",
       "      <td>male</td>\n",
       "      <td>2009</td>\n",
       "    </tr>\n",
       "    <tr>\n",
       "      <th>342</th>\n",
       "      <td>Chinstrap</td>\n",
       "      <td>Dream</td>\n",
       "      <td>50.8</td>\n",
       "      <td>19.0</td>\n",
       "      <td>210.0</td>\n",
       "      <td>4100.0</td>\n",
       "      <td>male</td>\n",
       "      <td>2009</td>\n",
       "    </tr>\n",
       "    <tr>\n",
       "      <th>343</th>\n",
       "      <td>Chinstrap</td>\n",
       "      <td>Dream</td>\n",
       "      <td>50.2</td>\n",
       "      <td>18.7</td>\n",
       "      <td>198.0</td>\n",
       "      <td>3775.0</td>\n",
       "      <td>female</td>\n",
       "      <td>2009</td>\n",
       "    </tr>\n",
       "  </tbody>\n",
       "</table>\n",
       "<p>68 rows × 8 columns</p>\n",
       "</div>"
      ],
      "text/plain": [
       "       species island  bill_length_mm  bill_depth_mm  flipper_length_mm  \\\n",
       "276  Chinstrap  Dream            46.5           17.9              192.0   \n",
       "277  Chinstrap  Dream            50.0           19.5              196.0   \n",
       "278  Chinstrap  Dream            51.3           19.2              193.0   \n",
       "279  Chinstrap  Dream            45.4           18.7              188.0   \n",
       "280  Chinstrap  Dream            52.7           19.8              197.0   \n",
       "..         ...    ...             ...            ...                ...   \n",
       "339  Chinstrap  Dream            55.8           19.8              207.0   \n",
       "340  Chinstrap  Dream            43.5           18.1              202.0   \n",
       "341  Chinstrap  Dream            49.6           18.2              193.0   \n",
       "342  Chinstrap  Dream            50.8           19.0              210.0   \n",
       "343  Chinstrap  Dream            50.2           18.7              198.0   \n",
       "\n",
       "     body_mass_g     sex  year  \n",
       "276       3500.0  female  2007  \n",
       "277       3900.0    male  2007  \n",
       "278       3650.0    male  2007  \n",
       "279       3525.0  female  2007  \n",
       "280       3725.0    male  2007  \n",
       "..           ...     ...   ...  \n",
       "339       4000.0    male  2009  \n",
       "340       3400.0  female  2009  \n",
       "341       3775.0    male  2009  \n",
       "342       4100.0    male  2009  \n",
       "343       3775.0  female  2009  \n",
       "\n",
       "[68 rows x 8 columns]"
      ]
     },
     "execution_count": 8,
     "metadata": {},
     "output_type": "execute_result"
    }
   ],
   "source": [
    "Chinstrap_Pengu"
   ]
  },
  {
   "cell_type": "code",
   "execution_count": 9,
   "id": "11a2a983-eb5a-44ac-a775-dec576c02bd2",
   "metadata": {},
   "outputs": [
    {
     "name": "stdout",
     "output_type": "stream",
     "text": [
      "       species island  bill_length_mm  bill_depth_mm  flipper_length_mm  \\\n",
      "284  Chinstrap  Dream            46.0           18.9              195.0   \n",
      "289  Chinstrap  Dream            52.0           18.1              201.0   \n",
      "291  Chinstrap  Dream            50.5           19.6              201.0   \n",
      "295  Chinstrap  Dream            49.2           18.2              195.0   \n",
      "301  Chinstrap  Dream            52.0           19.0              197.0   \n",
      "305  Chinstrap  Dream            52.8           20.0              205.0   \n",
      "307  Chinstrap  Dream            54.2           20.8              201.0   \n",
      "309  Chinstrap  Dream            51.0           18.8              203.0   \n",
      "313  Chinstrap  Dream            52.0           20.7              210.0   \n",
      "315  Chinstrap  Dream            53.5           19.9              205.0   \n",
      "321  Chinstrap  Dream            50.8           18.5              201.0   \n",
      "323  Chinstrap  Dream            49.0           19.6              212.0   \n",
      "329  Chinstrap  Dream            50.7           19.7              203.0   \n",
      "333  Chinstrap  Dream            49.3           19.9              203.0   \n",
      "339  Chinstrap  Dream            55.8           19.8              207.0   \n",
      "342  Chinstrap  Dream            50.8           19.0              210.0   \n",
      "\n",
      "     body_mass_g     sex  year  \n",
      "284       4150.0  female  2007  \n",
      "289       4050.0    male  2007  \n",
      "291       4050.0    male  2007  \n",
      "295       4400.0    male  2007  \n",
      "301       4150.0    male  2007  \n",
      "305       4550.0    male  2008  \n",
      "307       4300.0    male  2008  \n",
      "309       4100.0    male  2008  \n",
      "313       4800.0    male  2008  \n",
      "315       4500.0    male  2008  \n",
      "321       4450.0    male  2009  \n",
      "323       4300.0    male  2009  \n",
      "329       4050.0    male  2009  \n",
      "333       4050.0    male  2009  \n",
      "339       4000.0    male  2009  \n",
      "342       4100.0    male  2009  \n"
     ]
    }
   ],
   "source": [
    "fit_chinstrap = penguins[(penguins['species'] == 'Chinstrap') & (Chinstrap_Pengu[\"body_mass_g\"] >= 4000)]\n",
    "print(fit_chinstrap)"
   ]
  },
  {
   "cell_type": "markdown",
   "id": "89fadfde-8d5a-4411-947c-57ec2ad84c87",
   "metadata": {},
   "source": [
    "<h1>FILLUP NULL VALUES</h1>"
   ]
  },
  {
   "cell_type": "code",
   "execution_count": 10,
   "id": "fe682098-dcdb-4ec6-b80b-122ee8d2ae1f",
   "metadata": {},
   "outputs": [
    {
     "data": {
      "text/plain": [
       "species               0\n",
       "island                0\n",
       "bill_length_mm        2\n",
       "bill_depth_mm         2\n",
       "flipper_length_mm     2\n",
       "body_mass_g           2\n",
       "sex                  11\n",
       "year                  0\n",
       "dtype: int64"
      ]
     },
     "execution_count": 10,
     "metadata": {},
     "output_type": "execute_result"
    }
   ],
   "source": [
    "penguins.isnull().sum()"
   ]
  },
  {
   "cell_type": "code",
   "execution_count": 11,
   "id": "c1433fb8-bb73-497f-88db-c70254a1da4b",
   "metadata": {},
   "outputs": [
    {
     "data": {
      "text/plain": [
       "np.float64(43.9219298245614)"
      ]
     },
     "execution_count": 11,
     "metadata": {},
     "output_type": "execute_result"
    }
   ],
   "source": [
    "penguins['bill_length_mm'].mean()"
   ]
  },
  {
   "cell_type": "code",
   "execution_count": 12,
   "id": "4f1280bb-57e2-42f7-998e-0668bc86194a",
   "metadata": {},
   "outputs": [],
   "source": [
    "penguins['bill_length_mm'] = penguins['bill_length_mm'].fillna(penguins['bill_length_mm'].mean())"
   ]
  },
  {
   "cell_type": "code",
   "execution_count": 13,
   "id": "79a91cd5-fee0-4499-9532-b370fd1e24a5",
   "metadata": {},
   "outputs": [
    {
     "data": {
      "text/plain": [
       "0    male\n",
       "Name: sex, dtype: object"
      ]
     },
     "execution_count": 13,
     "metadata": {},
     "output_type": "execute_result"
    }
   ],
   "source": [
    "penguins['sex'] = penguins['sex'].fillna(penguins['sex'].mode()[0])\n",
    "penguins['sex'].mode()"
   ]
  },
  {
   "cell_type": "code",
   "execution_count": 14,
   "id": "492f79e8-4f24-41f0-ba01-c88cc4e2cbfa",
   "metadata": {},
   "outputs": [],
   "source": [
    "penguins['bill_depth_mm'] = penguins['bill_depth_mm'].fillna(penguins['bill_depth_mm'].mean())"
   ]
  },
  {
   "cell_type": "code",
   "execution_count": 15,
   "id": "b6286c10-2b69-42ed-b5af-1ed0abf9cb2c",
   "metadata": {},
   "outputs": [],
   "source": [
    "penguins['flipper_length_mm'] = penguins['flipper_length_mm'].fillna(penguins['flipper_length_mm'].mean())"
   ]
  },
  {
   "cell_type": "code",
   "execution_count": 16,
   "id": "fe8924d8-67e6-4dbb-af73-2f57034e914c",
   "metadata": {},
   "outputs": [],
   "source": [
    "penguins['body_mass_g'] = penguins['body_mass_g'].fillna(penguins['body_mass_g'].mean())"
   ]
  },
  {
   "cell_type": "code",
   "execution_count": 17,
   "id": "627d161d-c677-4f67-83d4-7a9efa894c6f",
   "metadata": {},
   "outputs": [
    {
     "data": {
      "text/plain": [
       "species              0\n",
       "island               0\n",
       "bill_length_mm       0\n",
       "bill_depth_mm        0\n",
       "flipper_length_mm    0\n",
       "body_mass_g          0\n",
       "sex                  0\n",
       "year                 0\n",
       "dtype: int64"
      ]
     },
     "execution_count": 17,
     "metadata": {},
     "output_type": "execute_result"
    }
   ],
   "source": [
    "penguins.isnull().sum()"
   ]
  },
  {
   "cell_type": "code",
   "execution_count": 18,
   "id": "b1cc67f8-a64e-4036-8c5f-e3689471c94e",
   "metadata": {},
   "outputs": [
    {
     "data": {
      "text/html": [
       "<div>\n",
       "<style scoped>\n",
       "    .dataframe tbody tr th:only-of-type {\n",
       "        vertical-align: middle;\n",
       "    }\n",
       "\n",
       "    .dataframe tbody tr th {\n",
       "        vertical-align: top;\n",
       "    }\n",
       "\n",
       "    .dataframe thead th {\n",
       "        text-align: right;\n",
       "    }\n",
       "</style>\n",
       "<table border=\"1\" class=\"dataframe\">\n",
       "  <thead>\n",
       "    <tr style=\"text-align: right;\">\n",
       "      <th></th>\n",
       "      <th>species</th>\n",
       "      <th>island</th>\n",
       "      <th>bill_length_mm</th>\n",
       "      <th>bill_depth_mm</th>\n",
       "      <th>flipper_length_mm</th>\n",
       "      <th>body_mass_g</th>\n",
       "      <th>sex</th>\n",
       "      <th>year</th>\n",
       "    </tr>\n",
       "  </thead>\n",
       "  <tbody>\n",
       "    <tr>\n",
       "      <th>0</th>\n",
       "      <td>Adelie</td>\n",
       "      <td>Torgersen</td>\n",
       "      <td>39.10000</td>\n",
       "      <td>18.70000</td>\n",
       "      <td>181.000000</td>\n",
       "      <td>3750.000000</td>\n",
       "      <td>male</td>\n",
       "      <td>2007</td>\n",
       "    </tr>\n",
       "    <tr>\n",
       "      <th>1</th>\n",
       "      <td>Adelie</td>\n",
       "      <td>Torgersen</td>\n",
       "      <td>39.50000</td>\n",
       "      <td>17.40000</td>\n",
       "      <td>186.000000</td>\n",
       "      <td>3800.000000</td>\n",
       "      <td>female</td>\n",
       "      <td>2007</td>\n",
       "    </tr>\n",
       "    <tr>\n",
       "      <th>2</th>\n",
       "      <td>Adelie</td>\n",
       "      <td>Torgersen</td>\n",
       "      <td>40.30000</td>\n",
       "      <td>18.00000</td>\n",
       "      <td>195.000000</td>\n",
       "      <td>3250.000000</td>\n",
       "      <td>female</td>\n",
       "      <td>2007</td>\n",
       "    </tr>\n",
       "    <tr>\n",
       "      <th>3</th>\n",
       "      <td>Adelie</td>\n",
       "      <td>Torgersen</td>\n",
       "      <td>43.92193</td>\n",
       "      <td>17.15117</td>\n",
       "      <td>200.915205</td>\n",
       "      <td>4201.754386</td>\n",
       "      <td>male</td>\n",
       "      <td>2007</td>\n",
       "    </tr>\n",
       "    <tr>\n",
       "      <th>4</th>\n",
       "      <td>Adelie</td>\n",
       "      <td>Torgersen</td>\n",
       "      <td>36.70000</td>\n",
       "      <td>19.30000</td>\n",
       "      <td>193.000000</td>\n",
       "      <td>3450.000000</td>\n",
       "      <td>female</td>\n",
       "      <td>2007</td>\n",
       "    </tr>\n",
       "    <tr>\n",
       "      <th>...</th>\n",
       "      <td>...</td>\n",
       "      <td>...</td>\n",
       "      <td>...</td>\n",
       "      <td>...</td>\n",
       "      <td>...</td>\n",
       "      <td>...</td>\n",
       "      <td>...</td>\n",
       "      <td>...</td>\n",
       "    </tr>\n",
       "    <tr>\n",
       "      <th>271</th>\n",
       "      <td>Gentoo</td>\n",
       "      <td>Biscoe</td>\n",
       "      <td>43.92193</td>\n",
       "      <td>17.15117</td>\n",
       "      <td>200.915205</td>\n",
       "      <td>4201.754386</td>\n",
       "      <td>male</td>\n",
       "      <td>2009</td>\n",
       "    </tr>\n",
       "    <tr>\n",
       "      <th>272</th>\n",
       "      <td>Gentoo</td>\n",
       "      <td>Biscoe</td>\n",
       "      <td>46.80000</td>\n",
       "      <td>14.30000</td>\n",
       "      <td>215.000000</td>\n",
       "      <td>4850.000000</td>\n",
       "      <td>female</td>\n",
       "      <td>2009</td>\n",
       "    </tr>\n",
       "    <tr>\n",
       "      <th>273</th>\n",
       "      <td>Gentoo</td>\n",
       "      <td>Biscoe</td>\n",
       "      <td>50.40000</td>\n",
       "      <td>15.70000</td>\n",
       "      <td>222.000000</td>\n",
       "      <td>5750.000000</td>\n",
       "      <td>male</td>\n",
       "      <td>2009</td>\n",
       "    </tr>\n",
       "    <tr>\n",
       "      <th>274</th>\n",
       "      <td>Gentoo</td>\n",
       "      <td>Biscoe</td>\n",
       "      <td>45.20000</td>\n",
       "      <td>14.80000</td>\n",
       "      <td>212.000000</td>\n",
       "      <td>5200.000000</td>\n",
       "      <td>female</td>\n",
       "      <td>2009</td>\n",
       "    </tr>\n",
       "    <tr>\n",
       "      <th>275</th>\n",
       "      <td>Gentoo</td>\n",
       "      <td>Biscoe</td>\n",
       "      <td>49.90000</td>\n",
       "      <td>16.10000</td>\n",
       "      <td>213.000000</td>\n",
       "      <td>5400.000000</td>\n",
       "      <td>male</td>\n",
       "      <td>2009</td>\n",
       "    </tr>\n",
       "  </tbody>\n",
       "</table>\n",
       "<p>220 rows × 8 columns</p>\n",
       "</div>"
      ],
      "text/plain": [
       "    species     island  bill_length_mm  bill_depth_mm  flipper_length_mm  \\\n",
       "0    Adelie  Torgersen        39.10000       18.70000         181.000000   \n",
       "1    Adelie  Torgersen        39.50000       17.40000         186.000000   \n",
       "2    Adelie  Torgersen        40.30000       18.00000         195.000000   \n",
       "3    Adelie  Torgersen        43.92193       17.15117         200.915205   \n",
       "4    Adelie  Torgersen        36.70000       19.30000         193.000000   \n",
       "..      ...        ...             ...            ...                ...   \n",
       "271  Gentoo     Biscoe        43.92193       17.15117         200.915205   \n",
       "272  Gentoo     Biscoe        46.80000       14.30000         215.000000   \n",
       "273  Gentoo     Biscoe        50.40000       15.70000         222.000000   \n",
       "274  Gentoo     Biscoe        45.20000       14.80000         212.000000   \n",
       "275  Gentoo     Biscoe        49.90000       16.10000         213.000000   \n",
       "\n",
       "     body_mass_g     sex  year  \n",
       "0    3750.000000    male  2007  \n",
       "1    3800.000000  female  2007  \n",
       "2    3250.000000  female  2007  \n",
       "3    4201.754386    male  2007  \n",
       "4    3450.000000  female  2007  \n",
       "..           ...     ...   ...  \n",
       "271  4201.754386    male  2009  \n",
       "272  4850.000000  female  2009  \n",
       "273  5750.000000    male  2009  \n",
       "274  5200.000000  female  2009  \n",
       "275  5400.000000    male  2009  \n",
       "\n",
       "[220 rows x 8 columns]"
      ]
     },
     "execution_count": 18,
     "metadata": {},
     "output_type": "execute_result"
    }
   ],
   "source": [
    "penguins[penguins['island'] != 'Dream' ]"
   ]
  },
  {
   "cell_type": "markdown",
   "id": "0f90fe03-d63f-4886-8ffa-70c2cff410de",
   "metadata": {},
   "source": [
    "<h1>CHANGING DATA TYPE OF A COLUMN</h1>"
   ]
  },
  {
   "cell_type": "code",
   "execution_count": 19,
   "id": "56c85d20-5d0a-4f0b-a291-81ba3316f82c",
   "metadata": {},
   "outputs": [
    {
     "name": "stdout",
     "output_type": "stream",
     "text": [
      "<class 'pandas.core.frame.DataFrame'>\n",
      "RangeIndex: 344 entries, 0 to 343\n",
      "Data columns (total 8 columns):\n",
      " #   Column             Non-Null Count  Dtype   \n",
      "---  ------             --------------  -----   \n",
      " 0   species            344 non-null    category\n",
      " 1   island             344 non-null    category\n",
      " 2   bill_length_mm     344 non-null    float64 \n",
      " 3   bill_depth_mm      344 non-null    float64 \n",
      " 4   flipper_length_mm  344 non-null    float64 \n",
      " 5   body_mass_g        344 non-null    float64 \n",
      " 6   sex                344 non-null    category\n",
      " 7   year               344 non-null    category\n",
      "dtypes: category(4), float64(4)\n",
      "memory usage: 12.7 KB\n"
     ]
    }
   ],
   "source": [
    "penguins['species'] = penguins['species'].astype('category')\n",
    "penguins['island'] = penguins['island'].astype('category')\n",
    "penguins['year'] = penguins['year'].astype('category')\n",
    "penguins['sex'] = penguins['sex'].astype('category')\n",
    "\n",
    "penguins.info()"
   ]
  },
  {
   "cell_type": "markdown",
   "id": "af69ffe9-4876-49dd-8d34-2f0645ff5c82",
   "metadata": {},
   "source": [
    "<h1>CREATE NEW COLUMN</h1>"
   ]
  },
  {
   "cell_type": "code",
   "execution_count": 20,
   "id": "a4fc0ff7-e711-4a3a-9ead-86d3bcbbc21b",
   "metadata": {},
   "outputs": [
    {
     "data": {
      "text/html": [
       "<div>\n",
       "<style scoped>\n",
       "    .dataframe tbody tr th:only-of-type {\n",
       "        vertical-align: middle;\n",
       "    }\n",
       "\n",
       "    .dataframe tbody tr th {\n",
       "        vertical-align: top;\n",
       "    }\n",
       "\n",
       "    .dataframe thead th {\n",
       "        text-align: right;\n",
       "    }\n",
       "</style>\n",
       "<table border=\"1\" class=\"dataframe\">\n",
       "  <thead>\n",
       "    <tr style=\"text-align: right;\">\n",
       "      <th></th>\n",
       "      <th>species</th>\n",
       "      <th>island</th>\n",
       "      <th>bill_length_mm</th>\n",
       "      <th>bill_depth_mm</th>\n",
       "      <th>flipper_length_mm</th>\n",
       "      <th>body_mass_g</th>\n",
       "      <th>sex</th>\n",
       "      <th>year</th>\n",
       "      <th>mass_kg</th>\n",
       "    </tr>\n",
       "  </thead>\n",
       "  <tbody>\n",
       "    <tr>\n",
       "      <th>0</th>\n",
       "      <td>Adelie</td>\n",
       "      <td>Torgersen</td>\n",
       "      <td>39.10000</td>\n",
       "      <td>18.70000</td>\n",
       "      <td>181.000000</td>\n",
       "      <td>3750.000000</td>\n",
       "      <td>male</td>\n",
       "      <td>2007</td>\n",
       "      <td>3.8</td>\n",
       "    </tr>\n",
       "    <tr>\n",
       "      <th>1</th>\n",
       "      <td>Adelie</td>\n",
       "      <td>Torgersen</td>\n",
       "      <td>39.50000</td>\n",
       "      <td>17.40000</td>\n",
       "      <td>186.000000</td>\n",
       "      <td>3800.000000</td>\n",
       "      <td>female</td>\n",
       "      <td>2007</td>\n",
       "      <td>3.8</td>\n",
       "    </tr>\n",
       "    <tr>\n",
       "      <th>2</th>\n",
       "      <td>Adelie</td>\n",
       "      <td>Torgersen</td>\n",
       "      <td>40.30000</td>\n",
       "      <td>18.00000</td>\n",
       "      <td>195.000000</td>\n",
       "      <td>3250.000000</td>\n",
       "      <td>female</td>\n",
       "      <td>2007</td>\n",
       "      <td>3.2</td>\n",
       "    </tr>\n",
       "    <tr>\n",
       "      <th>3</th>\n",
       "      <td>Adelie</td>\n",
       "      <td>Torgersen</td>\n",
       "      <td>43.92193</td>\n",
       "      <td>17.15117</td>\n",
       "      <td>200.915205</td>\n",
       "      <td>4201.754386</td>\n",
       "      <td>male</td>\n",
       "      <td>2007</td>\n",
       "      <td>4.2</td>\n",
       "    </tr>\n",
       "    <tr>\n",
       "      <th>4</th>\n",
       "      <td>Adelie</td>\n",
       "      <td>Torgersen</td>\n",
       "      <td>36.70000</td>\n",
       "      <td>19.30000</td>\n",
       "      <td>193.000000</td>\n",
       "      <td>3450.000000</td>\n",
       "      <td>female</td>\n",
       "      <td>2007</td>\n",
       "      <td>3.4</td>\n",
       "    </tr>\n",
       "    <tr>\n",
       "      <th>...</th>\n",
       "      <td>...</td>\n",
       "      <td>...</td>\n",
       "      <td>...</td>\n",
       "      <td>...</td>\n",
       "      <td>...</td>\n",
       "      <td>...</td>\n",
       "      <td>...</td>\n",
       "      <td>...</td>\n",
       "      <td>...</td>\n",
       "    </tr>\n",
       "    <tr>\n",
       "      <th>339</th>\n",
       "      <td>Chinstrap</td>\n",
       "      <td>Dream</td>\n",
       "      <td>55.80000</td>\n",
       "      <td>19.80000</td>\n",
       "      <td>207.000000</td>\n",
       "      <td>4000.000000</td>\n",
       "      <td>male</td>\n",
       "      <td>2009</td>\n",
       "      <td>4.0</td>\n",
       "    </tr>\n",
       "    <tr>\n",
       "      <th>340</th>\n",
       "      <td>Chinstrap</td>\n",
       "      <td>Dream</td>\n",
       "      <td>43.50000</td>\n",
       "      <td>18.10000</td>\n",
       "      <td>202.000000</td>\n",
       "      <td>3400.000000</td>\n",
       "      <td>female</td>\n",
       "      <td>2009</td>\n",
       "      <td>3.4</td>\n",
       "    </tr>\n",
       "    <tr>\n",
       "      <th>341</th>\n",
       "      <td>Chinstrap</td>\n",
       "      <td>Dream</td>\n",
       "      <td>49.60000</td>\n",
       "      <td>18.20000</td>\n",
       "      <td>193.000000</td>\n",
       "      <td>3775.000000</td>\n",
       "      <td>male</td>\n",
       "      <td>2009</td>\n",
       "      <td>3.8</td>\n",
       "    </tr>\n",
       "    <tr>\n",
       "      <th>342</th>\n",
       "      <td>Chinstrap</td>\n",
       "      <td>Dream</td>\n",
       "      <td>50.80000</td>\n",
       "      <td>19.00000</td>\n",
       "      <td>210.000000</td>\n",
       "      <td>4100.000000</td>\n",
       "      <td>male</td>\n",
       "      <td>2009</td>\n",
       "      <td>4.1</td>\n",
       "    </tr>\n",
       "    <tr>\n",
       "      <th>343</th>\n",
       "      <td>Chinstrap</td>\n",
       "      <td>Dream</td>\n",
       "      <td>50.20000</td>\n",
       "      <td>18.70000</td>\n",
       "      <td>198.000000</td>\n",
       "      <td>3775.000000</td>\n",
       "      <td>female</td>\n",
       "      <td>2009</td>\n",
       "      <td>3.8</td>\n",
       "    </tr>\n",
       "  </tbody>\n",
       "</table>\n",
       "<p>344 rows × 9 columns</p>\n",
       "</div>"
      ],
      "text/plain": [
       "       species     island  bill_length_mm  bill_depth_mm  flipper_length_mm  \\\n",
       "0       Adelie  Torgersen        39.10000       18.70000         181.000000   \n",
       "1       Adelie  Torgersen        39.50000       17.40000         186.000000   \n",
       "2       Adelie  Torgersen        40.30000       18.00000         195.000000   \n",
       "3       Adelie  Torgersen        43.92193       17.15117         200.915205   \n",
       "4       Adelie  Torgersen        36.70000       19.30000         193.000000   \n",
       "..         ...        ...             ...            ...                ...   \n",
       "339  Chinstrap      Dream        55.80000       19.80000         207.000000   \n",
       "340  Chinstrap      Dream        43.50000       18.10000         202.000000   \n",
       "341  Chinstrap      Dream        49.60000       18.20000         193.000000   \n",
       "342  Chinstrap      Dream        50.80000       19.00000         210.000000   \n",
       "343  Chinstrap      Dream        50.20000       18.70000         198.000000   \n",
       "\n",
       "     body_mass_g     sex  year  mass_kg  \n",
       "0    3750.000000    male  2007      3.8  \n",
       "1    3800.000000  female  2007      3.8  \n",
       "2    3250.000000  female  2007      3.2  \n",
       "3    4201.754386    male  2007      4.2  \n",
       "4    3450.000000  female  2007      3.4  \n",
       "..           ...     ...   ...      ...  \n",
       "339  4000.000000    male  2009      4.0  \n",
       "340  3400.000000  female  2009      3.4  \n",
       "341  3775.000000    male  2009      3.8  \n",
       "342  4100.000000    male  2009      4.1  \n",
       "343  3775.000000  female  2009      3.8  \n",
       "\n",
       "[344 rows x 9 columns]"
      ]
     },
     "execution_count": 20,
     "metadata": {},
     "output_type": "execute_result"
    }
   ],
   "source": [
    "penguins['mass_kg'] = round(penguins['body_mass_g']/1000,1)\n",
    "penguins"
   ]
  },
  {
   "cell_type": "markdown",
   "id": "e57d6fbe-9944-4322-87f6-1af3f0eca063",
   "metadata": {},
   "source": [
    "<h1>EXPLORATORY DATA ANALYSIS (EDA)</h1>"
   ]
  },
  {
   "cell_type": "markdown",
   "id": "1efce2b2-5f73-4c23-bcc5-6b40bdcb432b",
   "metadata": {},
   "source": [
    "<h3>1. Which Species has the heaviest body mass in kg?<h3>"
   ]
  },
  {
   "cell_type": "code",
   "execution_count": 21,
   "id": "a919bd32-793b-4f9d-9b3d-0fa4da67a924",
   "metadata": {},
   "outputs": [
    {
     "data": {
      "text/plain": [
       "np.float64(3733.0882352941176)"
      ]
     },
     "execution_count": 21,
     "metadata": {},
     "output_type": "execute_result"
    }
   ],
   "source": [
    "Chinstrap_Pengu['body_mass_g'].mean()"
   ]
  },
  {
   "cell_type": "code",
   "execution_count": 22,
   "id": "aa2fe79e-de95-41c9-9947-66aef26e8d2e",
   "metadata": {},
   "outputs": [
    {
     "data": {
      "text/plain": [
       "np.float64(3700.662251655629)"
      ]
     },
     "execution_count": 22,
     "metadata": {},
     "output_type": "execute_result"
    }
   ],
   "source": [
    "Adelie_Pengu['body_mass_g'].mean()"
   ]
  },
  {
   "cell_type": "code",
   "execution_count": 23,
   "id": "70a38e3e-fc1a-415e-a428-bc369ea02c92",
   "metadata": {},
   "outputs": [
    {
     "data": {
      "text/plain": [
       "np.float64(5076.016260162602)"
      ]
     },
     "execution_count": 23,
     "metadata": {},
     "output_type": "execute_result"
    }
   ],
   "source": [
    "Gentoo_Pengu['body_mass_g'].mean()"
   ]
  },
  {
   "cell_type": "markdown",
   "id": "44a926e5-151c-4108-b214-98eb8d1e224e",
   "metadata": {},
   "source": [
    "<h1>Insight</h1>"
   ]
  },
  {
   "cell_type": "markdown",
   "id": "88a22270-d681-4f47-8143-fb5f291f5cba",
   "metadata": {},
   "source": [
    "<h4>The heviest species on the presented data of Penguins in kilograms is GENTOO</h4>"
   ]
  },
  {
   "cell_type": "markdown",
   "id": "6dc09a87-a301-4e90-9762-dcf5d2e8836d",
   "metadata": {},
   "source": [
    "<h1> 12 Questions for this Activity</h1>"
   ]
  },
  {
   "cell_type": "code",
   "execution_count": 24,
   "id": "815506e0-17c2-4d85-ad5e-a09c5900a9a6",
   "metadata": {},
   "outputs": [
    {
     "data": {
      "text/html": [
       "<div>\n",
       "<style scoped>\n",
       "    .dataframe tbody tr th:only-of-type {\n",
       "        vertical-align: middle;\n",
       "    }\n",
       "\n",
       "    .dataframe tbody tr th {\n",
       "        vertical-align: top;\n",
       "    }\n",
       "\n",
       "    .dataframe thead th {\n",
       "        text-align: right;\n",
       "    }\n",
       "</style>\n",
       "<table border=\"1\" class=\"dataframe\">\n",
       "  <thead>\n",
       "    <tr style=\"text-align: right;\">\n",
       "      <th></th>\n",
       "      <th>species</th>\n",
       "      <th>island</th>\n",
       "      <th>bill_length_mm</th>\n",
       "      <th>bill_depth_mm</th>\n",
       "      <th>flipper_length_mm</th>\n",
       "      <th>body_mass_g</th>\n",
       "      <th>sex</th>\n",
       "      <th>year</th>\n",
       "      <th>mass_kg</th>\n",
       "    </tr>\n",
       "  </thead>\n",
       "  <tbody>\n",
       "    <tr>\n",
       "      <th>0</th>\n",
       "      <td>Adelie</td>\n",
       "      <td>Torgersen</td>\n",
       "      <td>39.10000</td>\n",
       "      <td>18.70000</td>\n",
       "      <td>181.000000</td>\n",
       "      <td>3750.000000</td>\n",
       "      <td>male</td>\n",
       "      <td>2007</td>\n",
       "      <td>3.8</td>\n",
       "    </tr>\n",
       "    <tr>\n",
       "      <th>1</th>\n",
       "      <td>Adelie</td>\n",
       "      <td>Torgersen</td>\n",
       "      <td>39.50000</td>\n",
       "      <td>17.40000</td>\n",
       "      <td>186.000000</td>\n",
       "      <td>3800.000000</td>\n",
       "      <td>female</td>\n",
       "      <td>2007</td>\n",
       "      <td>3.8</td>\n",
       "    </tr>\n",
       "    <tr>\n",
       "      <th>2</th>\n",
       "      <td>Adelie</td>\n",
       "      <td>Torgersen</td>\n",
       "      <td>40.30000</td>\n",
       "      <td>18.00000</td>\n",
       "      <td>195.000000</td>\n",
       "      <td>3250.000000</td>\n",
       "      <td>female</td>\n",
       "      <td>2007</td>\n",
       "      <td>3.2</td>\n",
       "    </tr>\n",
       "    <tr>\n",
       "      <th>3</th>\n",
       "      <td>Adelie</td>\n",
       "      <td>Torgersen</td>\n",
       "      <td>43.92193</td>\n",
       "      <td>17.15117</td>\n",
       "      <td>200.915205</td>\n",
       "      <td>4201.754386</td>\n",
       "      <td>male</td>\n",
       "      <td>2007</td>\n",
       "      <td>4.2</td>\n",
       "    </tr>\n",
       "    <tr>\n",
       "      <th>4</th>\n",
       "      <td>Adelie</td>\n",
       "      <td>Torgersen</td>\n",
       "      <td>36.70000</td>\n",
       "      <td>19.30000</td>\n",
       "      <td>193.000000</td>\n",
       "      <td>3450.000000</td>\n",
       "      <td>female</td>\n",
       "      <td>2007</td>\n",
       "      <td>3.4</td>\n",
       "    </tr>\n",
       "    <tr>\n",
       "      <th>...</th>\n",
       "      <td>...</td>\n",
       "      <td>...</td>\n",
       "      <td>...</td>\n",
       "      <td>...</td>\n",
       "      <td>...</td>\n",
       "      <td>...</td>\n",
       "      <td>...</td>\n",
       "      <td>...</td>\n",
       "      <td>...</td>\n",
       "    </tr>\n",
       "    <tr>\n",
       "      <th>339</th>\n",
       "      <td>Chinstrap</td>\n",
       "      <td>Dream</td>\n",
       "      <td>55.80000</td>\n",
       "      <td>19.80000</td>\n",
       "      <td>207.000000</td>\n",
       "      <td>4000.000000</td>\n",
       "      <td>male</td>\n",
       "      <td>2009</td>\n",
       "      <td>4.0</td>\n",
       "    </tr>\n",
       "    <tr>\n",
       "      <th>340</th>\n",
       "      <td>Chinstrap</td>\n",
       "      <td>Dream</td>\n",
       "      <td>43.50000</td>\n",
       "      <td>18.10000</td>\n",
       "      <td>202.000000</td>\n",
       "      <td>3400.000000</td>\n",
       "      <td>female</td>\n",
       "      <td>2009</td>\n",
       "      <td>3.4</td>\n",
       "    </tr>\n",
       "    <tr>\n",
       "      <th>341</th>\n",
       "      <td>Chinstrap</td>\n",
       "      <td>Dream</td>\n",
       "      <td>49.60000</td>\n",
       "      <td>18.20000</td>\n",
       "      <td>193.000000</td>\n",
       "      <td>3775.000000</td>\n",
       "      <td>male</td>\n",
       "      <td>2009</td>\n",
       "      <td>3.8</td>\n",
       "    </tr>\n",
       "    <tr>\n",
       "      <th>342</th>\n",
       "      <td>Chinstrap</td>\n",
       "      <td>Dream</td>\n",
       "      <td>50.80000</td>\n",
       "      <td>19.00000</td>\n",
       "      <td>210.000000</td>\n",
       "      <td>4100.000000</td>\n",
       "      <td>male</td>\n",
       "      <td>2009</td>\n",
       "      <td>4.1</td>\n",
       "    </tr>\n",
       "    <tr>\n",
       "      <th>343</th>\n",
       "      <td>Chinstrap</td>\n",
       "      <td>Dream</td>\n",
       "      <td>50.20000</td>\n",
       "      <td>18.70000</td>\n",
       "      <td>198.000000</td>\n",
       "      <td>3775.000000</td>\n",
       "      <td>female</td>\n",
       "      <td>2009</td>\n",
       "      <td>3.8</td>\n",
       "    </tr>\n",
       "  </tbody>\n",
       "</table>\n",
       "<p>344 rows × 9 columns</p>\n",
       "</div>"
      ],
      "text/plain": [
       "       species     island  bill_length_mm  bill_depth_mm  flipper_length_mm  \\\n",
       "0       Adelie  Torgersen        39.10000       18.70000         181.000000   \n",
       "1       Adelie  Torgersen        39.50000       17.40000         186.000000   \n",
       "2       Adelie  Torgersen        40.30000       18.00000         195.000000   \n",
       "3       Adelie  Torgersen        43.92193       17.15117         200.915205   \n",
       "4       Adelie  Torgersen        36.70000       19.30000         193.000000   \n",
       "..         ...        ...             ...            ...                ...   \n",
       "339  Chinstrap      Dream        55.80000       19.80000         207.000000   \n",
       "340  Chinstrap      Dream        43.50000       18.10000         202.000000   \n",
       "341  Chinstrap      Dream        49.60000       18.20000         193.000000   \n",
       "342  Chinstrap      Dream        50.80000       19.00000         210.000000   \n",
       "343  Chinstrap      Dream        50.20000       18.70000         198.000000   \n",
       "\n",
       "     body_mass_g     sex  year  mass_kg  \n",
       "0    3750.000000    male  2007      3.8  \n",
       "1    3800.000000  female  2007      3.8  \n",
       "2    3250.000000  female  2007      3.2  \n",
       "3    4201.754386    male  2007      4.2  \n",
       "4    3450.000000  female  2007      3.4  \n",
       "..           ...     ...   ...      ...  \n",
       "339  4000.000000    male  2009      4.0  \n",
       "340  3400.000000  female  2009      3.4  \n",
       "341  3775.000000    male  2009      3.8  \n",
       "342  4100.000000    male  2009      4.1  \n",
       "343  3775.000000  female  2009      3.8  \n",
       "\n",
       "[344 rows x 9 columns]"
      ]
     },
     "execution_count": 24,
     "metadata": {},
     "output_type": "execute_result"
    }
   ],
   "source": [
    "penguins"
   ]
  },
  {
   "cell_type": "markdown",
   "id": "db571260-653a-4cd3-b30d-e373890fba5f",
   "metadata": {},
   "source": [
    "<h3>1. Which Island on the presented data has the most numbers of female?</h3>"
   ]
  },
  {
   "cell_type": "code",
   "execution_count": 25,
   "id": "ca983032-e321-4513-ad47-810dcb920873",
   "metadata": {},
   "outputs": [
    {
     "name": "stdout",
     "output_type": "stream",
     "text": [
      "island     sex   \n",
      "Biscoe     female    80\n",
      "           male       0\n",
      "Dream      female    61\n",
      "           male       0\n",
      "Torgersen  female    24\n",
      "           male       0\n",
      "dtype: int64\n"
     ]
    }
   ],
   "source": [
    "fem = penguins[penguins['sex'] == 'female']\n",
    "fem_count = fem.groupby(['island','sex']).size()\n",
    "print(fem_count)"
   ]
  },
  {
   "cell_type": "code",
   "execution_count": 26,
   "id": "49fd6044-41b1-4656-9e52-0327969f462b",
   "metadata": {},
   "outputs": [
    {
     "name": "stdout",
     "output_type": "stream",
     "text": [
      "Total Female Population:  165\n"
     ]
    }
   ],
   "source": [
    "total_fem = fem_count.sum()\n",
    "print('Total Female Population: ',total_fem)"
   ]
  },
  {
   "cell_type": "code",
   "execution_count": 27,
   "id": "1291d322-9753-47a4-81c0-db27c0fc7195",
   "metadata": {},
   "outputs": [
    {
     "name": "stdout",
     "output_type": "stream",
     "text": [
      "Distribution of the total Female Population within 3 islands\n",
      " island     sex   \n",
      "Biscoe     female    48.484848\n",
      "           male       0.000000\n",
      "Dream      female    36.969697\n",
      "           male       0.000000\n",
      "Torgersen  female    14.545455\n",
      "           male       0.000000\n",
      "dtype: float64\n"
     ]
    }
   ],
   "source": [
    "female_difference = (fem_count / fem_count.sum())*100\n",
    "print('Distribution of the total Female Population within 3 islands\\n',female_difference)"
   ]
  },
  {
   "cell_type": "markdown",
   "id": "44aebd4b-29ac-4d8d-8131-9c676304d159",
   "metadata": {},
   "source": [
    "<h2>Insights #1</h2>\n",
    "<h5>The data presented above indicates that nearly <b>half</b> of all recorded female penguins can be found on the island of <b>Biscoe</b>.\n",
    "</h5>\n",
    "<p>Upon analysis, a noticeable margin in the female population can be observed based on the 3 islands they inhabit. With a total population of <b>165</b> female penguins, <b>48%</b> can be found in the island of Biscoe.\n",
    "</p>\n",
    "<p><i>The high number of females could indicate that Biscoe sustains <b>larger incubation areas</b> for different penguin species.</p>"
   ]
  },
  {
   "cell_type": "markdown",
   "id": "665016fc-efc2-4e9c-b087-ddd00b4e0dcc",
   "metadata": {},
   "source": [
    "<h3>2. Which Island on the presented data has the most numbers of male?</h3>"
   ]
  },
  {
   "cell_type": "code",
   "execution_count": 28,
   "id": "abc41380-0832-4e5d-9d93-22c6640260ca",
   "metadata": {},
   "outputs": [
    {
     "name": "stdout",
     "output_type": "stream",
     "text": [
      "island     sex   \n",
      "Biscoe     female     0\n",
      "           male      88\n",
      "Dream      female     0\n",
      "           male      63\n",
      "Torgersen  female     0\n",
      "           male      28\n",
      "dtype: int64\n"
     ]
    }
   ],
   "source": [
    "mal = penguins[penguins['sex']=='male']\n",
    "mal_count = mal.groupby(['island','sex']).size()\n",
    "print(mal_count)"
   ]
  },
  {
   "cell_type": "code",
   "execution_count": 29,
   "id": "b2aaa095-0b73-4143-818d-0c7046288279",
   "metadata": {},
   "outputs": [
    {
     "name": "stdout",
     "output_type": "stream",
     "text": [
      "Total Male Population: 179\n"
     ]
    }
   ],
   "source": [
    "total_mal = mal_count.sum()\n",
    "print(f'Total Male Population: {total_mal}')"
   ]
  },
  {
   "cell_type": "code",
   "execution_count": 30,
   "id": "b134e40a-5908-493d-8dbc-f39f82fabec1",
   "metadata": {},
   "outputs": [
    {
     "name": "stdout",
     "output_type": "stream",
     "text": [
      "Distribution of the total Male Population within 3 islands\n",
      " island     sex   \n",
      "Biscoe     female     0.000000\n",
      "           male      49.162011\n",
      "Dream      female     0.000000\n",
      "           male      35.195531\n",
      "Torgersen  female     0.000000\n",
      "           male      15.642458\n",
      "dtype: float64\n"
     ]
    }
   ],
   "source": [
    "male_difference = (mal_count / mal_count.sum())*100\n",
    "print('Distribution of the total Male Population within 3 islands\\n',male_difference)"
   ]
  },
  {
   "cell_type": "markdown",
   "id": "ceba8484-6fd1-4dfe-aad1-c64211835ff6",
   "metadata": {},
   "source": [
    "<h2>Insights #2</h2>\n",
    "<h5>The data presented above indicates that nearly <b>half</b> of all recorded male penguins can be found on the island of <b>Biscoe</b>.\n",
    "</h5>\n",
    "<p>Upon analysis, a noticeable margin in the male population can be observed based on the 3 islands they inhabit. With a total population of <b>179</b> male penguins, <b>49%</b> can be found in the island of Biscoe.\n",
    "</p>\n",
    "<p><i>Taking into account the previous female population within the same 3-island scope. It is safe to say that within the presented data, the island of <b>Biscoe has the densest penguin population.</p>"
   ]
  },
  {
   "cell_type": "markdown",
   "id": "868fe878-8865-4fc8-8852-f4d64b134c22",
   "metadata": {},
   "source": [
    "<h3>3. What is the overall Penguin population of the 3 islands combined?</h3>"
   ]
  },
  {
   "cell_type": "markdown",
   "id": "77c2b0d6-11fa-484b-98a2-3a8831e55ccf",
   "metadata": {},
   "source": [
    "<h2>Insights #3</h2>\n",
    "<h5>The total penguin population of the 3 islands (Biscoe, Dream, Torgersen) is <b>344</b>.\n",
    "</h5>\n",
    "<p> Note that the number above is the sum of the male and female population. The dataset does not have enough information to indicate the number of mature penguins per species, island or year. Therefore, the fertility rate of the 3 islands, nor per island, cannot be determined.\n",
    "</p>"
   ]
  },
  {
   "cell_type": "code",
   "execution_count": 31,
   "id": "0f41d045-2496-4860-b7b7-74627318e377",
   "metadata": {},
   "outputs": [
    {
     "name": "stdout",
     "output_type": "stream",
     "text": [
      "344\n"
     ]
    }
   ],
   "source": [
    "population = (fem_count.sum() + mal_count.sum())\n",
    "print(population)"
   ]
  },
  {
   "cell_type": "markdown",
   "id": "044caca8-5159-4238-81f9-ea5049b670fd",
   "metadata": {},
   "source": [
    "<h4>4. What is the average bill length of all penguins presented?</h4>"
   ]
  },
  {
   "cell_type": "code",
   "execution_count": 32,
   "id": "10609b58-5b64-47de-83ad-836326119a81",
   "metadata": {},
   "outputs": [
    {
     "name": "stdout",
     "output_type": "stream",
     "text": [
      "The average bill of the Adelie penguin population is 39mm\n",
      "The average bill of the Chinstrap penguin population is 49mm\n",
      "The average bill of the Gentoo penguin population is 48mm\n"
     ]
    }
   ],
   "source": [
    "adelie_bill = round(Adelie_Pengu['bill_length_mm'].mean())\n",
    "chinstrap_bill = round(Chinstrap_Pengu['bill_length_mm'].mean())\n",
    "gentoo_bill = round(Gentoo_Pengu['bill_length_mm'].mean())\n",
    "\n",
    "print(f'The average bill of the Adelie penguin population is {adelie_bill}mm')\n",
    "print(f'The average bill of the Chinstrap penguin population is {chinstrap_bill}mm')\n",
    "print(f'The average bill of the Gentoo penguin population is {gentoo_bill}mm')\n",
    "\n"
   ]
  },
  {
   "cell_type": "code",
   "execution_count": 33,
   "id": "e8f3f6fd-1be5-430b-8751-cb8359dcfc0d",
   "metadata": {},
   "outputs": [
    {
     "data": {
      "text/plain": [
       "44"
      ]
     },
     "execution_count": 33,
     "metadata": {},
     "output_type": "execute_result"
    }
   ],
   "source": [
    "round(penguins['bill_length_mm'].mean())"
   ]
  },
  {
   "cell_type": "markdown",
   "id": "da3b403c-a205-44fc-81db-5a221a65ad70",
   "metadata": {},
   "source": [
    "<h2>Insights #4</h2>\n",
    "<h5>The average length of a penguin bill within the population of the 3 presented islands is <b>44mm</h5>\n",
    "<p>Upon analysis, there is a noticeable difference among the species. Particularly the Adelie, having a bill that is shorter than the other two species. \n",
    "\n",
    "<i>The significance of the present difference of the Adelie species' bill length is subject for testing and is yet to be determined</p>"
   ]
  },
  {
   "cell_type": "markdown",
   "id": "1401de20-3158-4c7b-abcf-6a6e97076aec",
   "metadata": {},
   "source": [
    "<h4>5. What is the average flipper length of all penguins presented?</h4>"
   ]
  },
  {
   "cell_type": "code",
   "execution_count": 34,
   "id": "921666d9-d359-4886-8e61-751f0cbe4f6e",
   "metadata": {},
   "outputs": [
    {
     "name": "stdout",
     "output_type": "stream",
     "text": [
      "The average flipper of the Adelie penguin population is 190mm\n",
      "The average flipper of the Chinstrap penguin population is 196mm\n",
      "The average flipper of the Gentoo penguin population is 217mm\n"
     ]
    }
   ],
   "source": [
    "adelie_flipper = round(Adelie_Pengu['flipper_length_mm'].mean())\n",
    "chinstrap_flipper = round(Chinstrap_Pengu['flipper_length_mm'].mean())\n",
    "gentoo_flipper = round(Gentoo_Pengu['flipper_length_mm'].mean())\n",
    "\n",
    "print(f'The average flipper of the Adelie penguin population is {adelie_flipper}mm')\n",
    "print(f'The average flipper of the Chinstrap penguin population is {chinstrap_flipper}mm')\n",
    "print(f'The average flipper of the Gentoo penguin population is {gentoo_flipper}mm')"
   ]
  },
  {
   "cell_type": "code",
   "execution_count": 35,
   "id": "b54c11e1-d1cf-4fea-aa85-043839ad293f",
   "metadata": {},
   "outputs": [
    {
     "data": {
      "text/plain": [
       "201"
      ]
     },
     "execution_count": 35,
     "metadata": {},
     "output_type": "execute_result"
    }
   ],
   "source": [
    "round(penguins['flipper_length_mm'].mean())"
   ]
  },
  {
   "cell_type": "markdown",
   "id": "6cb672b7-b1cd-4313-aa84-e9bf65b4844e",
   "metadata": {},
   "source": [
    "<h2>Insights #5</h2>\n",
    "<h5>The average length of a penguin flipper within the population of the 3 presented island is <b>201mm</h5>\n",
    "<p>Upon analysis, there is a noticeable difference among the species. Particularly the Gentoo, having a flipper that is longer than the other two species. \n",
    "\n",
    "<i>The significance of the present difference of the Gentoo species' flipper length is subject for testing and is yet to be determined</p>"
   ]
  },
  {
   "cell_type": "markdown",
   "id": "caab12f1-34f3-49db-a9bd-628a941aee0b",
   "metadata": {},
   "source": [
    "<h4>6. What is the average bill depth of all penguins presented?</h4>"
   ]
  },
  {
   "cell_type": "code",
   "execution_count": 36,
   "id": "7f41546e-5033-4523-8468-960c519f4e1e",
   "metadata": {},
   "outputs": [
    {
     "name": "stdout",
     "output_type": "stream",
     "text": [
      "The average bill depth of the Adelie penguin population is 18mm\n",
      "The average bill depth of the Chinstrap penguin population is 18mm\n",
      "The average bill depth of the Gentoo penguin population is 15mm\n"
     ]
    }
   ],
   "source": [
    "adelie_bill_depth = round(Adelie_Pengu['bill_depth_mm'].mean())\n",
    "chinstrap_bill_depth = round(Chinstrap_Pengu['bill_depth_mm'].mean())\n",
    "gentoo_bill_depth = round(Gentoo_Pengu['bill_depth_mm'].mean())\n",
    "\n",
    "print(f'The average bill depth of the Adelie penguin population is {adelie_bill_depth}mm')\n",
    "print(f'The average bill depth of the Chinstrap penguin population is {chinstrap_bill_depth}mm')\n",
    "print(f'The average bill depth of the Gentoo penguin population is {gentoo_bill_depth}mm')"
   ]
  },
  {
   "cell_type": "code",
   "execution_count": 37,
   "id": "f42b1c42-b514-449f-9419-d4f49be38e34",
   "metadata": {},
   "outputs": [
    {
     "data": {
      "text/plain": [
       "17"
      ]
     },
     "execution_count": 37,
     "metadata": {},
     "output_type": "execute_result"
    }
   ],
   "source": [
    "round(penguins['bill_depth_mm'].mean())"
   ]
  },
  {
   "cell_type": "markdown",
   "id": "abb14358-f7bb-4ba6-ba5d-c5a36f443d4f",
   "metadata": {},
   "source": [
    "<h2>Insights #6</h2>\n",
    "<h5>The average depth of a penguin bill within the population of the 3 presented island is <b>17mm</h5>\n",
    "<p>Upon analysis, there is a noticeable difference among the species. Particularly the Gentoo, having a bill depth that is shorter than the other two species. Interestingly, Adelie and Chinstrap shares the exact same bill depth of 18mm.\n",
    "\n",
    "<i>The significance of the present difference of the Gentoo species' bill depth is subject for testing and is yet to be determined</p>"
   ]
  },
  {
   "cell_type": "markdown",
   "id": "309b20ca-3dc4-45bf-919e-099c22cf9d33",
   "metadata": {},
   "source": [
    "<h4>7. Is there a correlation between the sex and anatomical measurement of a penguin?</h4>"
   ]
  },
  {
   "cell_type": "code",
   "execution_count": 38,
   "id": "23802828-bf50-4f18-8702-bc5cdd78ea5a",
   "metadata": {},
   "outputs": [
    {
     "name": "stdout",
     "output_type": "stream",
     "text": [
      "F-stat: 39.65455984564767  P-value: 9.307501289283404e-10\n"
     ]
    }
   ],
   "source": [
    "fem_bill_l = penguins[penguins['sex'] == 'female']['bill_length_mm']\n",
    "mal_bill_l = penguins[penguins['sex'] == 'male']['bill_length_mm']\n",
    "\n",
    "f_stat, p_value = stats.f_oneway(fem_bill_l, mal_bill_l)\n",
    "print(\"F-stat:\", f_stat, \" P-value:\", p_value)"
   ]
  },
  {
   "cell_type": "code",
   "execution_count": 39,
   "id": "e50cdfcf-5581-44e1-865a-4d19fa2f5d2a",
   "metadata": {},
   "outputs": [
    {
     "name": "stdout",
     "output_type": "stream",
     "text": [
      "F-stat: 49.116852993833895  P-value: 1.2906481751545917e-11\n"
     ]
    }
   ],
   "source": [
    "fem_bill_d = penguins[penguins['sex'] == 'female']['bill_depth_mm']\n",
    "mal_bill_d = penguins[penguins['sex'] == 'male']['bill_depth_mm']\n",
    "\n",
    "f_stat, p_value = stats.f_oneway(fem_bill_d, mal_bill_d)\n",
    "print(\"F-stat:\", f_stat, \" P-value:\", p_value)"
   ]
  },
  {
   "cell_type": "code",
   "execution_count": 40,
   "id": "2f759331-5580-4751-bf4a-d244310bd902",
   "metadata": {},
   "outputs": [
    {
     "name": "stdout",
     "output_type": "stream",
     "text": [
      "F-stat: 21.566658928918905  P-value: 4.88065474065626e-06\n"
     ]
    }
   ],
   "source": [
    "fem_flipp_l = penguins[penguins['sex'] == 'female']['flipper_length_mm']\n",
    "mal_flipp_l = penguins[penguins['sex'] == 'male']['flipper_length_mm']\n",
    "\n",
    "f_stat, p_value = stats.f_oneway(fem_flipp_l, mal_flipp_l)\n",
    "print(\"F-stat:\", f_stat, \" P-value:\", p_value)"
   ]
  },
  {
   "cell_type": "markdown",
   "id": "6d00605f-eefc-4cf2-bf08-11d3f5140a33",
   "metadata": {},
   "source": [
    "<h2>Insights #7</h2>\n",
    "<h5>There is a large and <b>statistically significant correlation</b> between the Anatomical measurements of a penguin and it's sex</h5>\n",
    "<p>With the 3 measurements present in the data set, it was found that male penguins tend to be <b>signifincantly bigger</b>. This aligns with the assumption that sex has influence to a penguins size.\n",
    "\n",
    "<i>Important Note* The correlation was produced from the total population of Penguins. It is imporant to understand that Species can also be a huge variable in determining the influences on penguin size. This analysis only proves the big correlation in penguin sex and measurements, not including the potential size differences between species.</p>"
   ]
  },
  {
   "cell_type": "markdown",
   "id": "d5281e0c-b7f7-4d6b-856c-e73cff824173",
   "metadata": {},
   "source": [
    "<h4>8. In what year was the largest female penguin recorded for every species?</h4>"
   ]
  },
  {
   "cell_type": "code",
   "execution_count": 49,
   "id": "780ab4ca-3359-48ee-98c4-e95dc1da9c7e",
   "metadata": {},
   "outputs": [
    {
     "data": {
      "text/html": [
       "<div>\n",
       "<style scoped>\n",
       "    .dataframe tbody tr th:only-of-type {\n",
       "        vertical-align: middle;\n",
       "    }\n",
       "\n",
       "    .dataframe tbody tr th {\n",
       "        vertical-align: top;\n",
       "    }\n",
       "\n",
       "    .dataframe thead th {\n",
       "        text-align: right;\n",
       "    }\n",
       "</style>\n",
       "<table border=\"1\" class=\"dataframe\">\n",
       "  <thead>\n",
       "    <tr style=\"text-align: right;\">\n",
       "      <th></th>\n",
       "      <th></th>\n",
       "      <th>bill_length_mm</th>\n",
       "      <th>bill_depth_mm</th>\n",
       "      <th>flipper_length_mm</th>\n",
       "      <th>mass_kg</th>\n",
       "    </tr>\n",
       "    <tr>\n",
       "      <th>year</th>\n",
       "      <th>species</th>\n",
       "      <th></th>\n",
       "      <th></th>\n",
       "      <th></th>\n",
       "      <th></th>\n",
       "    </tr>\n",
       "  </thead>\n",
       "  <tbody>\n",
       "    <tr>\n",
       "      <th rowspan=\"3\" valign=\"top\">2007</th>\n",
       "      <th>Adelie</th>\n",
       "      <td>42.2</td>\n",
       "      <td>19.3</td>\n",
       "      <td>195.0</td>\n",
       "      <td>3.8</td>\n",
       "    </tr>\n",
       "    <tr>\n",
       "      <th>Chinstrap</th>\n",
       "      <td>58.0</td>\n",
       "      <td>18.9</td>\n",
       "      <td>198.0</td>\n",
       "      <td>4.2</td>\n",
       "    </tr>\n",
       "    <tr>\n",
       "      <th>Gentoo</th>\n",
       "      <td>48.7</td>\n",
       "      <td>14.6</td>\n",
       "      <td>215.0</td>\n",
       "      <td>5.0</td>\n",
       "    </tr>\n",
       "    <tr>\n",
       "      <th rowspan=\"3\" valign=\"top\">2008</th>\n",
       "      <th>Adelie</th>\n",
       "      <td>40.9</td>\n",
       "      <td>19.0</td>\n",
       "      <td>202.0</td>\n",
       "      <td>3.8</td>\n",
       "    </tr>\n",
       "    <tr>\n",
       "      <th>Chinstrap</th>\n",
       "      <td>50.5</td>\n",
       "      <td>18.4</td>\n",
       "      <td>200.0</td>\n",
       "      <td>3.9</td>\n",
       "    </tr>\n",
       "    <tr>\n",
       "      <th>Gentoo</th>\n",
       "      <td>49.1</td>\n",
       "      <td>15.0</td>\n",
       "      <td>220.0</td>\n",
       "      <td>5.2</td>\n",
       "    </tr>\n",
       "    <tr>\n",
       "      <th rowspan=\"3\" valign=\"top\">2009</th>\n",
       "      <th>Adelie</th>\n",
       "      <td>40.2</td>\n",
       "      <td>20.7</td>\n",
       "      <td>199.0</td>\n",
       "      <td>3.9</td>\n",
       "    </tr>\n",
       "    <tr>\n",
       "      <th>Chinstrap</th>\n",
       "      <td>50.9</td>\n",
       "      <td>19.4</td>\n",
       "      <td>202.0</td>\n",
       "      <td>3.8</td>\n",
       "    </tr>\n",
       "    <tr>\n",
       "      <th>Gentoo</th>\n",
       "      <td>50.5</td>\n",
       "      <td>15.5</td>\n",
       "      <td>222.0</td>\n",
       "      <td>5.2</td>\n",
       "    </tr>\n",
       "  </tbody>\n",
       "</table>\n",
       "</div>"
      ],
      "text/plain": [
       "                bill_length_mm  bill_depth_mm  flipper_length_mm  mass_kg\n",
       "year species                                                             \n",
       "2007 Adelie               42.2           19.3              195.0      3.8\n",
       "     Chinstrap            58.0           18.9              198.0      4.2\n",
       "     Gentoo               48.7           14.6              215.0      5.0\n",
       "2008 Adelie               40.9           19.0              202.0      3.8\n",
       "     Chinstrap            50.5           18.4              200.0      3.9\n",
       "     Gentoo               49.1           15.0              220.0      5.2\n",
       "2009 Adelie               40.2           20.7              199.0      3.9\n",
       "     Chinstrap            50.9           19.4              202.0      3.8\n",
       "     Gentoo               50.5           15.5              222.0      5.2"
      ]
     },
     "execution_count": 49,
     "metadata": {},
     "output_type": "execute_result"
    }
   ],
   "source": [
    "fem_year = fem.groupby(['year','species'])[['bill_length_mm','bill_depth_mm','flipper_length_mm','mass_kg']].max()\n",
    "fem_year"
   ]
  },
  {
   "cell_type": "markdown",
   "id": "e1a91faa-3b5e-4f06-8517-d0941132d631",
   "metadata": {},
   "source": [
    "<h2>Insights #8</h2>\n",
    "<h5>The largest females recorded has varying large mearuements per year.</h5>\n",
    "<p>Across 3 years of recording penguin measruements, it can be observed that these large recorded females have specific varying measurements. In 2007, the bill lengths of these species were of the largest within the 3-year scope. In 2008, the fllipper lengths were of the longest, and in 2009, the largest bill depth was recorded. All in the same 3-year scope and 3 species.\n",
    "    \n",
    "<i>What's more interesting is the results doesn't seem to repeat on a yearly basis. Meaning each penguin was not recorded twice.</p>"
   ]
  },
  {
   "cell_type": "markdown",
   "id": "5d1114eb-7feb-46c4-ab90-b4219054f424",
   "metadata": {},
   "source": [
    "<h4>9. In what year was the largest male penguin recorded for every species?</h4>"
   ]
  },
  {
   "cell_type": "code",
   "execution_count": 48,
   "id": "b103a342-9e17-4912-a14b-041435af2606",
   "metadata": {},
   "outputs": [
    {
     "data": {
      "text/html": [
       "<div>\n",
       "<style scoped>\n",
       "    .dataframe tbody tr th:only-of-type {\n",
       "        vertical-align: middle;\n",
       "    }\n",
       "\n",
       "    .dataframe tbody tr th {\n",
       "        vertical-align: top;\n",
       "    }\n",
       "\n",
       "    .dataframe thead th {\n",
       "        text-align: right;\n",
       "    }\n",
       "</style>\n",
       "<table border=\"1\" class=\"dataframe\">\n",
       "  <thead>\n",
       "    <tr style=\"text-align: right;\">\n",
       "      <th></th>\n",
       "      <th></th>\n",
       "      <th>bill_length_mm</th>\n",
       "      <th>bill_depth_mm</th>\n",
       "      <th>flipper_length_mm</th>\n",
       "      <th>mass_kg</th>\n",
       "    </tr>\n",
       "    <tr>\n",
       "      <th>year</th>\n",
       "      <th>species</th>\n",
       "      <th></th>\n",
       "      <th></th>\n",
       "      <th></th>\n",
       "      <th></th>\n",
       "    </tr>\n",
       "  </thead>\n",
       "  <tbody>\n",
       "    <tr>\n",
       "      <th rowspan=\"3\" valign=\"top\">2007</th>\n",
       "      <th>Adelie</th>\n",
       "      <td>46.0</td>\n",
       "      <td>21.5</td>\n",
       "      <td>200.915205</td>\n",
       "      <td>4.7</td>\n",
       "    </tr>\n",
       "    <tr>\n",
       "      <th>Chinstrap</th>\n",
       "      <td>52.7</td>\n",
       "      <td>20.3</td>\n",
       "      <td>201.000000</td>\n",
       "      <td>4.4</td>\n",
       "    </tr>\n",
       "    <tr>\n",
       "      <th>Gentoo</th>\n",
       "      <td>59.6</td>\n",
       "      <td>17.0</td>\n",
       "      <td>230.000000</td>\n",
       "      <td>6.3</td>\n",
       "    </tr>\n",
       "    <tr>\n",
       "      <th rowspan=\"3\" valign=\"top\">2008</th>\n",
       "      <th>Adelie</th>\n",
       "      <td>45.8</td>\n",
       "      <td>21.1</td>\n",
       "      <td>208.000000</td>\n",
       "      <td>4.7</td>\n",
       "    </tr>\n",
       "    <tr>\n",
       "      <th>Chinstrap</th>\n",
       "      <td>54.2</td>\n",
       "      <td>20.8</td>\n",
       "      <td>210.000000</td>\n",
       "      <td>4.8</td>\n",
       "    </tr>\n",
       "    <tr>\n",
       "      <th>Gentoo</th>\n",
       "      <td>54.3</td>\n",
       "      <td>17.3</td>\n",
       "      <td>231.000000</td>\n",
       "      <td>6.0</td>\n",
       "    </tr>\n",
       "    <tr>\n",
       "      <th rowspan=\"3\" valign=\"top\">2009</th>\n",
       "      <th>Adelie</th>\n",
       "      <td>45.6</td>\n",
       "      <td>20.5</td>\n",
       "      <td>210.000000</td>\n",
       "      <td>4.8</td>\n",
       "    </tr>\n",
       "    <tr>\n",
       "      <th>Chinstrap</th>\n",
       "      <td>55.8</td>\n",
       "      <td>19.9</td>\n",
       "      <td>212.000000</td>\n",
       "      <td>4.4</td>\n",
       "    </tr>\n",
       "    <tr>\n",
       "      <th>Gentoo</th>\n",
       "      <td>55.9</td>\n",
       "      <td>17.3</td>\n",
       "      <td>230.000000</td>\n",
       "      <td>6.0</td>\n",
       "    </tr>\n",
       "  </tbody>\n",
       "</table>\n",
       "</div>"
      ],
      "text/plain": [
       "                bill_length_mm  bill_depth_mm  flipper_length_mm  mass_kg\n",
       "year species                                                             \n",
       "2007 Adelie               46.0           21.5         200.915205      4.7\n",
       "     Chinstrap            52.7           20.3         201.000000      4.4\n",
       "     Gentoo               59.6           17.0         230.000000      6.3\n",
       "2008 Adelie               45.8           21.1         208.000000      4.7\n",
       "     Chinstrap            54.2           20.8         210.000000      4.8\n",
       "     Gentoo               54.3           17.3         231.000000      6.0\n",
       "2009 Adelie               45.6           20.5         210.000000      4.8\n",
       "     Chinstrap            55.8           19.9         212.000000      4.4\n",
       "     Gentoo               55.9           17.3         230.000000      6.0"
      ]
     },
     "execution_count": 48,
     "metadata": {},
     "output_type": "execute_result"
    }
   ],
   "source": [
    "mal_year = mal.groupby(['year','species'])[['bill_length_mm','bill_depth_mm','flipper_length_mm','mass_kg']].max()\n",
    "mal_year"
   ]
  },
  {
   "cell_type": "markdown",
   "id": "ae3b9da0-3336-42a9-b2b7-ff55742188bb",
   "metadata": {},
   "source": [
    "<h2>Insights #9</h2>\n",
    "<h5>The largest male was a Gentoo species recorded in 2007.</h5>\n",
    "<p>Unlike the similar female analysis done previously, the males seem to have size similarities, almost repeated even in some species.\n",
    "    \n",
    "<i>Important Note* Which also applies to the previous analysis, the locations of these penguins are not determined here.</p>"
   ]
  },
  {
   "cell_type": "markdown",
   "id": "3ed0b006-ebb1-441c-8ada-bc61a08bd00f",
   "metadata": {},
   "source": [
    "<h4>10. What is the most common penguin species present in 2007?</h4>"
   ]
  },
  {
   "cell_type": "code",
   "execution_count": 43,
   "id": "9efe3ac6-a349-498d-a5db-fa7c9b8e1948",
   "metadata": {},
   "outputs": [
    {
     "name": "stdout",
     "output_type": "stream",
     "text": [
      "Most common species in 2007: Adelie\n"
     ]
    }
   ],
   "source": [
    "penguins_2007 = penguins[penguins['year'] == 2007]\n",
    "\n",
    "most_common_species = penguins_2007['species'].mode()[0]\n",
    "print(\"Most common species in 2007:\", most_common_species)\n"
   ]
  },
  {
   "cell_type": "markdown",
   "id": "f09f99e6-c4e6-48fb-9de9-23a216fa8ae1",
   "metadata": {},
   "source": [
    "<h2>Insights #10</h2>\n",
    "<h5>The most common species of penguin in 2007 is the Adelie.</h5>\n",
    "<p>The results indicates that majority of the penguin population consist of adelies.\n",
    "    \n",
    "<i>It also worth mentioning the potential that Adelie has found a way to coexist with other penguin species in a very efficient way, having implications that they thrive on all 3 islands.</p>"
   ]
  },
  {
   "cell_type": "markdown",
   "id": "6d6e63d3-ef94-4108-b8d5-2b6b61c68084",
   "metadata": {},
   "source": [
    "<h4>11. What is the female-to-male ratio of the penguin population per species?</h4>"
   ]
  },
  {
   "cell_type": "code",
   "execution_count": 44,
   "id": "a89a8ca6-fae0-4637-bebf-f3e3bcf4a052",
   "metadata": {},
   "outputs": [
    {
     "name": "stdout",
     "output_type": "stream",
     "text": [
      "sex        female  male  fem_to_male_ratio\n",
      "species                                   \n",
      "Adelie         73    79           0.924051\n",
      "Chinstrap      34    34           1.000000\n",
      "Gentoo         58    66           0.878788\n"
     ]
    }
   ],
   "source": [
    "sex_count = penguins.groupby(['species','sex']).size().unstack()\n",
    "\n",
    "sex_count['fem_to_male_ratio'] = sex_count['female'] / sex_count['male']\n",
    "print(sex_count)\n"
   ]
  },
  {
   "cell_type": "markdown",
   "id": "e507f4c3-9732-4694-baa1-4b742038a601",
   "metadata": {},
   "source": [
    "<h2>Insights #11</h2>\n",
    "<h5>The species with the highest female-to-male ratio is the Chinstrap.</h5>\n",
    "<p>Despite being the lowest in population, Chinstrap has the highest sex ratio of the 3 species.\n",
    "    \n",
    "<i>Adelie and Gentoo shares a more similar ratio but what they have in common is a lower female population.</p>"
   ]
  },
  {
   "cell_type": "markdown",
   "id": "08d89081-575e-438c-96a4-19a19fce0147",
   "metadata": {},
   "source": [
    "<h4>12. What species has the least amount of females?</h4>"
   ]
  },
  {
   "cell_type": "code",
   "execution_count": 45,
   "id": "20ab2144-8d1b-4a42-89e0-1c364cab8042",
   "metadata": {},
   "outputs": [
    {
     "name": "stdout",
     "output_type": "stream",
     "text": [
      "Species with least females: Chinstrap\n"
     ]
    }
   ],
   "source": [
    "least_females = penguins[penguins['sex'] == 'female'].groupby('species').size().idxmin()\n",
    "print(\"Species with least females:\", least_females)\n"
   ]
  },
  {
   "cell_type": "markdown",
   "id": "b9f0f0f8-f0c9-4293-9b81-86259c38eb05",
   "metadata": {},
   "source": [
    "<h2>Insights #12</h2>\n",
    "<h5>Least female population has been observed among the species of Chinstrap.</h5>\n",
    "<p>The low female population post no big threat to their population, however, that is because they don't have a big population in the first place. In the span of 3 years, Chinstrap has the lowest penguin population among the 3 islands.\n",
    "    \n",
    "<i>This data can be used to understand if competition is involved in the low numbers on Chinstrap, is it just part of their biology to produce small number of offspring, or is it a mix of both?.</p>"
   ]
  },
  {
   "cell_type": "markdown",
   "id": "4e9f1a1e-279c-4acf-a33a-01e5ce66954b",
   "metadata": {
    "jp-MarkdownHeadingCollapsed": true
   },
   "source": [
    "<h1>TESTING CORRELATION</h1>"
   ]
  },
  {
   "cell_type": "markdown",
   "id": "c93db7a8-045d-4ced-8ee4-853d058e8878",
   "metadata": {},
   "source": [
    "<h3>Pearson R Correlation</h3>"
   ]
  },
  {
   "cell_type": "markdown",
   "id": "bd22da0f-4037-4ce0-a137-af757af602b6",
   "metadata": {},
   "source": [
    "<hr><h4> Used for testing correlation between two <b>NUMERICAL VALUES</b></h4>"
   ]
  },
  {
   "cell_type": "code",
   "execution_count": 46,
   "id": "db550d9a-f249-4388-beba-b33c1b62bdc2",
   "metadata": {},
   "outputs": [
    {
     "name": "stdout",
     "output_type": "stream",
     "text": [
      "0.8712017673060115\n"
     ]
    }
   ],
   "source": [
    "weight_flipper_cor = penguins['body_mass_g'].corr(penguins['flipper_length_mm'])\n",
    "print(weight_flipper_cor)"
   ]
  },
  {
   "cell_type": "code",
   "execution_count": null,
   "id": "98649723-ccc5-476c-b05f-211257af0159",
   "metadata": {},
   "outputs": [],
   "source": []
  }
 ],
 "metadata": {
  "kernelspec": {
   "display_name": "Python 3 (ipykernel)",
   "language": "python",
   "name": "python3"
  },
  "language_info": {
   "codemirror_mode": {
    "name": "ipython",
    "version": 3
   },
   "file_extension": ".py",
   "mimetype": "text/x-python",
   "name": "python",
   "nbconvert_exporter": "python",
   "pygments_lexer": "ipython3",
   "version": "3.13.1"
  }
 },
 "nbformat": 4,
 "nbformat_minor": 5
}
